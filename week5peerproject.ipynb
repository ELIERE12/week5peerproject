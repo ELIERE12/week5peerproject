print ("WELCOME TO THE ASANKA HOTEL")
print("Your Home of Execellence and Prestige.")
#Get the charge of food

print("")
Food_charge = float(input("Kindly enter the charge for the food :$"))

#calculate the tip(18%)

Tip = float(0.18 * Food_charge)

#calculate the sales tax(7%)

SaleTax = float(0.07 * Food_charge)

#calculate the grand total

Grand_Total = float(Food_charge + Tip + SaleTax) 
print("")
 
#display the tip

print(f'Tip = ${round(Tip,2)}')
print("")

#display the sales tax

print(f'Sale Tax = ${round(SaleTax,2)}')
print("")

#display the grand total

print(f'Grand Total = ${round(Grand_Total,2)}')
print("")
print ("Thank you for patronizing us")
print ("We hope to see you soon!")